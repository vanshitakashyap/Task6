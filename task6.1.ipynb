Face Recognition to send Whatsapp message and E-mail
The below module works for face extraction
In [4]:
import cv2
import numpy as np

# HERE THE HAAR FACE CLASSIFIER IS LOADING
face_classifier = cv2.CascadeClassifier('haarcascade_frontalface_default.xml')

# fUNCTION TO DETECT THE FACE AND CROP THAT
def face_extractor(img):
    
    img_in_gray = cv2.cvtColor(img,cv2.COLOR_BGR2GRAY)
    faces = face_classifier.detectMultiScale(img_in_gray, 1.3, 5)
    
    if faces is ():
        return None
    
    # CROPPING THE FACE PART
    for (x,y,w,h) in faces:
        cropped_face = img[y:y+h, x:x+w]

    return cropped_face

# WEBCAM INITIALIZATION
cap = cv2.VideoCapture(0)
count = 0

# Collect 100 samples of your face from webcam input
while True:

    ret, frame = cap.read()
    if face_extractor(frame) is not None:
        count += 1
        face = cv2.resize(face_extractor(frame), (200, 200))
        face = cv2.cvtColor(face, cv2.COLOR_BGR2GRAY)

        # SAVING EACH IMAGE IS A SPECIFIC FOLDER "M1"
        file_name_path = './TASK6/M1/' + str(count) + '.jpg'
        cv2.imwrite(file_name_path, face)

        # Put count on images and display live count
        cv2.putText(face, str(count), (50, 50), cv2.FONT_HERSHEY_COMPLEX, 1, (0,255,0), 2)
        cv2.imshow('FACES IS CROPPING', face)
        
    else:
        print("YOUR FACE IS NOT VISIBLE PROPERLY")
        pass

    if cv2.waitKey(1) == 13 or count == 200:
        break
        
cap.release()
cv2.destroyAllWindows()      
print("Collecting Samples Complete!!!!")
<>:13: SyntaxWarning: "is" with a literal. Did you mean "=="?
<>:13: SyntaxWarning: "is" with a literal. Did you mean "=="?
<ipython-input-4-dd5096ebb12a>:13: SyntaxWarning: "is" with a literal. Did you mean "=="?
  if faces is ():
Collecting Samples Complete!!!!
Training the model with all captured and cropped images
In [5]:
import cv2
import numpy as np
from os import listdir
from os.path import isfile, join

# TAKING THE DATA FOR TRAINING PURPOSE FROM "M1" FOLDER
path = './TASK6/M1/'
onlyfiles = [f for f in listdir(path) if isfile(join(path, f))]

# LIST OF DATA AND LABELS
Training_Data = []
Labels = []

# OPEN TRAINING IMAGES IN OUR PATH AND CREATING A NUMPY ARRAY FOR TRAINING DATA
for i, files in enumerate(onlyfiles):
    image_path = path + onlyfiles[i]
    images = cv2.imread(image_path, cv2.IMREAD_GRAYSCALE)
    Training_Data.append(np.asarray(images, dtype=np.uint8))
    Labels.append(i)

# CREATE A NUMPY ARRAY FOR BOTH TRAINING DATA AND LABELS
Labels = np.asarray(Labels, dtype=np.int32)

# Initialize facial recognizer
# model = cv2.face.createLBPHFaceRecognizer()
# NOTE: For OpenCV 3.0 use cv2.face.createLBPHFaceRecognizer()
# pip install opencv-contrib-python
# model = cv2.createLBPHFaceRecognizer()

anupam_model  = cv2.face_LBPHFaceRecognizer.create()
# Let's train our model 
anupam_model.train(np.asarray(Training_Data), np.asarray(Labels))
print("Model trained sucessefully!!!")
Model trained sucessefully!!!
Face detection for sending whatsapp message and E-mail
In [6]:
import cv2
import numpy as np
import os
import pywhatkit as kitkat
import time


face_classifier = cv2.CascadeClassifier('haarcascade_frontalface_default.xml')

def face_detector(img, size=0.5):
    
    # Convert image to grayscale
    gray = cv2.cvtColor(img,cv2.COLOR_BGR2GRAY)
    faces = face_classifier.detectMultiScale(gray, 1.3, 5)
    if faces is ():
        return img, []
    
    
    for (x,y,w,h) in faces:
        cv2.rectangle(img,(x,y),(x+w,y+h),(0,255,255),2)
        roi = img[y:y+h, x:x+w]
        roi = cv2.resize(roi, (200, 200))
    return img, roi


# WEBCAM INITIALIZATION
cap = cv2.VideoCapture(0)

while True:

    ret, frame = cap.read()
    
    image, face = face_detector(frame)
    
    
    try:
        face = cv2.cvtColor(face, cv2.COLOR_BGR2GRAY)

        # PASSING FACE FOR THE PREDICTION
        # "RESULTS" IS A TUPLE COMPRISES OF LABELS AND CONFIDENCE SCORE
        results = anupam_model.predict(face)
        
        
        if results[1] < 500:
            confidence = int( 100 * (1 - (results[1])/400) )
            display_string = str(confidence) + '% FACE MATCHING!!!'
            cv2.putText(image, display_string, (50, 100), cv2.FONT_HERSHEY_COMPLEX, 1, (0, 255,0), 2)
        
        #IF CONFIDENCE SCORE WILL BE MORE THAN 90% EMAIL AND WHATSAPP MESSAGE BOTH WILL BE SEND.
        if confidence > 90:
            cv2.putText(image, "FACE MATCHED!!!", (100, 450), cv2.FONT_HERSHEY_COMPLEX, 1, (0,255,0), 2)
            cv2.imshow('FACE RECOGNITION', image)
            kitkat.sendwhatmsg_instantly('+918639791694','Task 6 Whatsapp Message Sent!!!')
            print("WHATSAPP MESSAGE SENT!!!")
            kitkat.send_mail('deepalimishra161@gmail.com', 'testing purpose', 'Task 6', 'Test Email sent successfully!!!', 'deepalimishra931@gmail.com')
            break
            
        else:
            cv2.putText(image, "FACE IS NOT MATCHING by 90%!!!", (100, 450), cv2.FONT_HERSHEY_COMPLEX, 1, (255,0,0), 2)
            cv2.imshow('FACE RECOGNITION', image )

    except:
        cv2.putText(image, "FACE DOESN'T FOUND!!!", (50, 100) , cv2.FONT_HERSHEY_COMPLEX, 1, (255,0,0), 2)
        cv2.putText(image, "PlEASE LOOK AT CAMERA!!!", (50, 450), cv2.FONT_HERSHEY_COMPLEX, 1, (255,0,0), 2)
        cv2.imshow('FACE RECOGNITION', image)
        pass
        
    if cv2.waitKey(1) == 13:
        break
        
cap.release()
cv2.destroyAllWindows()
<>:15: SyntaxWarning: "is" with a literal. Did you mean "=="?
<>:15: SyntaxWarning: "is" with a literal. Did you mean "=="?
<ipython-input-6-daa4d34449d2>:15: SyntaxWarning: "is" with a literal. Did you mean "=="?
  if faces is ():
WHATSAPP MESSAGE SENT!!!
Email sent Successfully!
In [ ]:
cap.release()

